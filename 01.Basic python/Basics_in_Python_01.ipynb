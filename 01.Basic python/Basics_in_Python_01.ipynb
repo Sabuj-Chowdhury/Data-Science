{
  "nbformat": 4,
  "nbformat_minor": 0,
  "metadata": {
    "colab": {
      "provenance": []
    },
    "kernelspec": {
      "name": "python3",
      "display_name": "Python 3"
    },
    "language_info": {
      "name": "python"
    }
  },
  "cells": [
    {
      "cell_type": "markdown",
      "source": [
        "#1. Hello world"
      ],
      "metadata": {
        "id": "5eqbaAB2D_8I"
      }
    },
    {
      "cell_type": "code",
      "source": [
        "print('hello world')"
      ],
      "metadata": {
        "colab": {
          "base_uri": "https://localhost:8080/"
        },
        "id": "tyuj3GeaEGqA",
        "outputId": "4fb8b8ec-7c7e-497c-f7b6-e88cee280833"
      },
      "execution_count": null,
      "outputs": [
        {
          "output_type": "stream",
          "name": "stdout",
          "text": [
            "hello world\n"
          ]
        }
      ]
    },
    {
      "cell_type": "code",
      "source": [
        "\"Hello world\""
      ],
      "metadata": {
        "colab": {
          "base_uri": "https://localhost:8080/",
          "height": 35
        },
        "id": "BhO-4pXvEWEu",
        "outputId": "bd48b01d-200b-4223-87a4-b2d9ab8292fc"
      },
      "execution_count": null,
      "outputs": [
        {
          "output_type": "execute_result",
          "data": {
            "text/plain": [
              "'Hello world'"
            ],
            "application/vnd.google.colaboratory.intrinsic+json": {
              "type": "string"
            }
          },
          "metadata": {},
          "execution_count": 42
        }
      ]
    },
    {
      "cell_type": "markdown",
      "source": [
        "#2. Data types"
      ],
      "metadata": {
        "id": "R1axaT9rEG_X"
      }
    },
    {
      "cell_type": "code",
      "source": [
        "type('Hello word')"
      ],
      "metadata": {
        "colab": {
          "base_uri": "https://localhost:8080/"
        },
        "id": "74N0I7pIEgRK",
        "outputId": "90d7ec37-4a06-409e-98cc-8a5de189fa41"
      },
      "execution_count": null,
      "outputs": [
        {
          "output_type": "execute_result",
          "data": {
            "text/plain": [
              "str"
            ]
          },
          "metadata": {},
          "execution_count": 43
        }
      ]
    },
    {
      "cell_type": "code",
      "source": [
        "type(True)"
      ],
      "metadata": {
        "colab": {
          "base_uri": "https://localhost:8080/"
        },
        "id": "chvJX4O1EqGJ",
        "outputId": "9f9ead2d-0420-408a-c4f1-c287d7a83b27"
      },
      "execution_count": null,
      "outputs": [
        {
          "output_type": "execute_result",
          "data": {
            "text/plain": [
              "bool"
            ]
          },
          "metadata": {},
          "execution_count": 44
        }
      ]
    },
    {
      "cell_type": "markdown",
      "source": [
        "### 2.1 methods in string in python"
      ],
      "metadata": {
        "id": "vRBME51eExEi"
      }
    },
    {
      "cell_type": "code",
      "source": [
        "('hello').upper()"
      ],
      "metadata": {
        "colab": {
          "base_uri": "https://localhost:8080/",
          "height": 35
        },
        "id": "_bKH6XpSE3DH",
        "outputId": "9f1c23ed-fb4b-428c-dd9d-1c00a69fde65"
      },
      "execution_count": null,
      "outputs": [
        {
          "output_type": "execute_result",
          "data": {
            "text/plain": [
              "'HELLO'"
            ],
            "application/vnd.google.colaboratory.intrinsic+json": {
              "type": "string"
            }
          },
          "metadata": {},
          "execution_count": 45
        }
      ]
    },
    {
      "cell_type": "code",
      "source": [
        "('Hello World').count('l')"
      ],
      "metadata": {
        "colab": {
          "base_uri": "https://localhost:8080/"
        },
        "id": "3CfiWE3kFuHr",
        "outputId": "d9612d66-39e4-4df8-cfe2-7afca34d52bf"
      },
      "execution_count": null,
      "outputs": [
        {
          "output_type": "execute_result",
          "data": {
            "text/plain": [
              "3"
            ]
          },
          "metadata": {},
          "execution_count": 46
        }
      ]
    },
    {
      "cell_type": "code",
      "source": [
        "('Hello').lower()"
      ],
      "metadata": {
        "colab": {
          "base_uri": "https://localhost:8080/",
          "height": 35
        },
        "id": "1Uzuo9QfFQYT",
        "outputId": "4216beae-689b-4e5b-f5d8-fcf6efac60c8"
      },
      "execution_count": null,
      "outputs": [
        {
          "output_type": "execute_result",
          "data": {
            "text/plain": [
              "'hello'"
            ],
            "application/vnd.google.colaboratory.intrinsic+json": {
              "type": "string"
            }
          },
          "metadata": {},
          "execution_count": 47
        }
      ]
    },
    {
      "cell_type": "code",
      "source": [
        "('hello world').title()"
      ],
      "metadata": {
        "colab": {
          "base_uri": "https://localhost:8080/",
          "height": 35
        },
        "id": "FxSW28lmFTR-",
        "outputId": "f6fac388-bb89-4d50-8ddd-d3c9c630ad56"
      },
      "execution_count": null,
      "outputs": [
        {
          "output_type": "execute_result",
          "data": {
            "text/plain": [
              "'Hello World'"
            ],
            "application/vnd.google.colaboratory.intrinsic+json": {
              "type": "string"
            }
          },
          "metadata": {},
          "execution_count": 48
        }
      ]
    },
    {
      "cell_type": "code",
      "source": [
        "('Hello world').replace('o','u')"
      ],
      "metadata": {
        "colab": {
          "base_uri": "https://localhost:8080/",
          "height": 35
        },
        "id": "d0zlPFwZF1jx",
        "outputId": "9cf899dd-7e4a-48c7-9a43-7a426ec4d8e5"
      },
      "execution_count": null,
      "outputs": [
        {
          "output_type": "execute_result",
          "data": {
            "text/plain": [
              "'Hellu wurld'"
            ],
            "application/vnd.google.colaboratory.intrinsic+json": {
              "type": "string"
            }
          },
          "metadata": {},
          "execution_count": 49
        }
      ]
    },
    {
      "cell_type": "markdown",
      "source": [
        "# 3. Variables"
      ],
      "metadata": {
        "id": "FSz2txhXGEFw"
      }
    },
    {
      "cell_type": "code",
      "source": [
        "message = 'I am learning data science'\n",
        "message_2 = \"and it's fun\"\n"
      ],
      "metadata": {
        "id": "IAYSeyqOGHru"
      },
      "execution_count": null,
      "outputs": []
    },
    {
      "cell_type": "code",
      "source": [
        "print(message + ' ' +message_2)"
      ],
      "metadata": {
        "colab": {
          "base_uri": "https://localhost:8080/"
        },
        "id": "Bv8o7R3cGVGK",
        "outputId": "a6fcfa38-43a7-4da5-80ec-2cb970076733"
      },
      "execution_count": null,
      "outputs": [
        {
          "output_type": "stream",
          "name": "stdout",
          "text": [
            "I am learning data science and it's fun\n"
          ]
        }
      ]
    },
    {
      "cell_type": "code",
      "source": [
        "f'Hello {message} {message_2}'"
      ],
      "metadata": {
        "colab": {
          "base_uri": "https://localhost:8080/",
          "height": 35
        },
        "id": "f02oN-7lG49o",
        "outputId": "4fc9f80f-8b7c-402f-acf5-b26426879985"
      },
      "execution_count": null,
      "outputs": [
        {
          "output_type": "execute_result",
          "data": {
            "text/plain": [
              "\"Hello I am learning data science and it's fun\""
            ],
            "application/vnd.google.colaboratory.intrinsic+json": {
              "type": "string"
            }
          },
          "metadata": {},
          "execution_count": 52
        }
      ]
    },
    {
      "cell_type": "markdown",
      "source": [
        "# 4. List"
      ],
      "metadata": {
        "id": "R7PeRM71HNKt"
      }
    },
    {
      "cell_type": "code",
      "source": [
        "countries = ['US','Bangladesh','India','Pakistan','UK','Australia']\n",
        "# list can have duplicate value\n",
        "# list can have diffrent data types in the list"
      ],
      "metadata": {
        "id": "BbbgUAFOHQsd"
      },
      "execution_count": null,
      "outputs": []
    },
    {
      "cell_type": "code",
      "source": [
        "countries"
      ],
      "metadata": {
        "colab": {
          "base_uri": "https://localhost:8080/"
        },
        "id": "N-XTlg0mHmmg",
        "outputId": "50c0185a-f6a3-4550-ba11-11a5d7e50739"
      },
      "execution_count": null,
      "outputs": [
        {
          "output_type": "execute_result",
          "data": {
            "text/plain": [
              "['US', 'Bangladesh', 'India', 'Pakistan', 'UK', 'Australia']"
            ]
          },
          "metadata": {},
          "execution_count": 54
        }
      ]
    },
    {
      "cell_type": "code",
      "source": [
        "countries[1]"
      ],
      "metadata": {
        "colab": {
          "base_uri": "https://localhost:8080/",
          "height": 35
        },
        "id": "FwsYmCRhHxKH",
        "outputId": "c1a370fd-f041-4b69-ce35-419a2e6fb8f6"
      },
      "execution_count": null,
      "outputs": [
        {
          "output_type": "execute_result",
          "data": {
            "text/plain": [
              "'Bangladesh'"
            ],
            "application/vnd.google.colaboratory.intrinsic+json": {
              "type": "string"
            }
          },
          "metadata": {},
          "execution_count": 55
        }
      ]
    },
    {
      "cell_type": "code",
      "source": [
        "print(countries[0])\n",
        "print(countries[1])\n",
        "print(countries[2])\n",
        "print(countries[3])\n",
        "print(countries[4])"
      ],
      "metadata": {
        "colab": {
          "base_uri": "https://localhost:8080/"
        },
        "id": "H87waCiKIHa0",
        "outputId": "1766a7d5-bcd4-4061-9224-6ff8d2f35e96"
      },
      "execution_count": null,
      "outputs": [
        {
          "output_type": "stream",
          "name": "stdout",
          "text": [
            "US\n",
            "Bangladesh\n",
            "India\n",
            "Pakistan\n",
            "UK\n"
          ]
        }
      ]
    },
    {
      "cell_type": "code",
      "source": [
        "countries[-1]\n",
        "# this -1 represents the last element of the list\n",
        "# for example:  -1 : Australia, -2 : UK and so on ...."
      ],
      "metadata": {
        "colab": {
          "base_uri": "https://localhost:8080/",
          "height": 35
        },
        "id": "M2Bdwa2dIg3p",
        "outputId": "bd0f9087-05bf-4ae3-c2d5-849224227100"
      },
      "execution_count": null,
      "outputs": [
        {
          "output_type": "execute_result",
          "data": {
            "text/plain": [
              "'Australia'"
            ],
            "application/vnd.google.colaboratory.intrinsic+json": {
              "type": "string"
            }
          },
          "metadata": {},
          "execution_count": 57
        }
      ]
    },
    {
      "cell_type": "code",
      "source": [
        "countries[-5]"
      ],
      "metadata": {
        "colab": {
          "base_uri": "https://localhost:8080/",
          "height": 35
        },
        "id": "hMfONkxFIvYN",
        "outputId": "f8779c7f-e23d-44e4-d313-e16545551d67"
      },
      "execution_count": null,
      "outputs": [
        {
          "output_type": "execute_result",
          "data": {
            "text/plain": [
              "'Bangladesh'"
            ],
            "application/vnd.google.colaboratory.intrinsic+json": {
              "type": "string"
            }
          },
          "metadata": {},
          "execution_count": 58
        }
      ]
    },
    {
      "cell_type": "code",
      "source": [
        "# slicing\n",
        "# list_name [start:stop]\n",
        "countries[0:3]"
      ],
      "metadata": {
        "colab": {
          "base_uri": "https://localhost:8080/"
        },
        "id": "J7poZCjSJGTN",
        "outputId": "fe43ca16-1dcc-4428-9846-962ae51cde3b"
      },
      "execution_count": null,
      "outputs": [
        {
          "output_type": "execute_result",
          "data": {
            "text/plain": [
              "['US', 'Bangladesh', 'India']"
            ]
          },
          "metadata": {},
          "execution_count": 59
        }
      ]
    },
    {
      "cell_type": "code",
      "source": [
        "# another way\n",
        "countries[:3]"
      ],
      "metadata": {
        "colab": {
          "base_uri": "https://localhost:8080/"
        },
        "id": "vHU2wWM7KCzf",
        "outputId": "430f530e-c2c1-42f5-aa36-fcef49ee44c2"
      },
      "execution_count": null,
      "outputs": [
        {
          "output_type": "execute_result",
          "data": {
            "text/plain": [
              "['US', 'Bangladesh', 'India']"
            ]
          },
          "metadata": {},
          "execution_count": 60
        }
      ]
    },
    {
      "cell_type": "code",
      "source": [
        "countries[0:1]"
      ],
      "metadata": {
        "colab": {
          "base_uri": "https://localhost:8080/"
        },
        "id": "dX4_T6oHJoND",
        "outputId": "85b67e77-1247-4ff5-c168-2b0cede96609"
      },
      "execution_count": null,
      "outputs": [
        {
          "output_type": "execute_result",
          "data": {
            "text/plain": [
              "['US']"
            ]
          },
          "metadata": {},
          "execution_count": 61
        }
      ]
    },
    {
      "cell_type": "code",
      "source": [
        "# another way\n",
        "countries[:1]"
      ],
      "metadata": {
        "colab": {
          "base_uri": "https://localhost:8080/"
        },
        "id": "qee5FnisKKvm",
        "outputId": "ed75424e-2547-4456-fd24-4296e5e9dea9"
      },
      "execution_count": null,
      "outputs": [
        {
          "output_type": "execute_result",
          "data": {
            "text/plain": [
              "['US']"
            ]
          },
          "metadata": {},
          "execution_count": 62
        }
      ]
    },
    {
      "cell_type": "code",
      "source": [
        "countries[3:6]"
      ],
      "metadata": {
        "colab": {
          "base_uri": "https://localhost:8080/"
        },
        "id": "iu0V68g8KWrr",
        "outputId": "e7e5df94-116c-42b9-d0dd-2b1e0f984c16"
      },
      "execution_count": null,
      "outputs": [
        {
          "output_type": "execute_result",
          "data": {
            "text/plain": [
              "['Pakistan', 'UK', 'Australia']"
            ]
          },
          "metadata": {},
          "execution_count": 63
        }
      ]
    },
    {
      "cell_type": "code",
      "source": [
        "# another way\n",
        "countries[3:]"
      ],
      "metadata": {
        "colab": {
          "base_uri": "https://localhost:8080/"
        },
        "id": "asIjo-R1Kbyw",
        "outputId": "1b6e04ae-edbd-4a44-cc2b-e46330b47233"
      },
      "execution_count": null,
      "outputs": [
        {
          "output_type": "execute_result",
          "data": {
            "text/plain": [
              "['Pakistan', 'UK', 'Australia']"
            ]
          },
          "metadata": {},
          "execution_count": 64
        }
      ]
    },
    {
      "cell_type": "markdown",
      "source": [
        "### 4.1 adding elements to a list"
      ],
      "metadata": {
        "id": "WnrnidX0KpQG"
      }
    },
    {
      "cell_type": "code",
      "source": [
        "countries"
      ],
      "metadata": {
        "colab": {
          "base_uri": "https://localhost:8080/"
        },
        "id": "qXDa9X68KvFJ",
        "outputId": "b7378935-6df0-4e0e-b84d-7bb936422339"
      },
      "execution_count": null,
      "outputs": [
        {
          "output_type": "execute_result",
          "data": {
            "text/plain": [
              "['US', 'Bangladesh', 'India', 'Pakistan', 'UK', 'Australia']"
            ]
          },
          "metadata": {},
          "execution_count": 65
        }
      ]
    },
    {
      "cell_type": "code",
      "source": [
        "countries.append('China')"
      ],
      "metadata": {
        "id": "Pb34pHgvKdXi"
      },
      "execution_count": null,
      "outputs": []
    },
    {
      "cell_type": "code",
      "source": [
        "countries"
      ],
      "metadata": {
        "colab": {
          "base_uri": "https://localhost:8080/"
        },
        "id": "uNQJJ7NHK3Jd",
        "outputId": "f019db1b-2d88-4cbb-8b19-3051875cdf64"
      },
      "execution_count": null,
      "outputs": [
        {
          "output_type": "execute_result",
          "data": {
            "text/plain": [
              "['US', 'Bangladesh', 'India', 'Pakistan', 'UK', 'Australia', 'China']"
            ]
          },
          "metadata": {},
          "execution_count": 67
        }
      ]
    },
    {
      "cell_type": "code",
      "source": [
        "countries.insert(0,'Japan')"
      ],
      "metadata": {
        "id": "HuMPfuy2LCqW"
      },
      "execution_count": null,
      "outputs": []
    },
    {
      "cell_type": "code",
      "source": [
        "countries"
      ],
      "metadata": {
        "colab": {
          "base_uri": "https://localhost:8080/"
        },
        "id": "zqUIhw2bLK_l",
        "outputId": "bbd83a38-38b3-42a0-9a75-8a5195c28d2b"
      },
      "execution_count": null,
      "outputs": [
        {
          "output_type": "execute_result",
          "data": {
            "text/plain": [
              "['Japan', 'US', 'Bangladesh', 'India', 'Pakistan', 'UK', 'Australia', 'China']"
            ]
          },
          "metadata": {},
          "execution_count": 69
        }
      ]
    },
    {
      "cell_type": "code",
      "source": [
        "countries_2=['UK','Germany','Austria']"
      ],
      "metadata": {
        "id": "KyEJgWqMLiH6"
      },
      "execution_count": null,
      "outputs": []
    },
    {
      "cell_type": "code",
      "source": [
        "countries + countries_2"
      ],
      "metadata": {
        "colab": {
          "base_uri": "https://localhost:8080/"
        },
        "id": "no0t7fjqLqn6",
        "outputId": "b8548a81-b66a-4b22-dba8-970d1e0b8ecd"
      },
      "execution_count": null,
      "outputs": [
        {
          "output_type": "execute_result",
          "data": {
            "text/plain": [
              "['Japan',\n",
              " 'US',\n",
              " 'Bangladesh',\n",
              " 'India',\n",
              " 'Pakistan',\n",
              " 'UK',\n",
              " 'Australia',\n",
              " 'China',\n",
              " 'UK',\n",
              " 'Germany',\n",
              " 'Austria']"
            ]
          },
          "metadata": {},
          "execution_count": 71
        }
      ]
    },
    {
      "cell_type": "code",
      "source": [
        "nested_list =[countries,countries_2]"
      ],
      "metadata": {
        "id": "d2DUFmeYLvIh"
      },
      "execution_count": null,
      "outputs": []
    },
    {
      "cell_type": "code",
      "source": [
        "nested_list"
      ],
      "metadata": {
        "colab": {
          "base_uri": "https://localhost:8080/"
        },
        "id": "97NbTehVL2uR",
        "outputId": "9e70063d-2a71-4b68-dbfe-150461745063"
      },
      "execution_count": null,
      "outputs": [
        {
          "output_type": "execute_result",
          "data": {
            "text/plain": [
              "[['Japan',\n",
              "  'US',\n",
              "  'Bangladesh',\n",
              "  'India',\n",
              "  'Pakistan',\n",
              "  'UK',\n",
              "  'Australia',\n",
              "  'China'],\n",
              " ['UK', 'Germany', 'Austria']]"
            ]
          },
          "metadata": {},
          "execution_count": 73
        }
      ]
    },
    {
      "cell_type": "markdown",
      "source": [
        "### 4.2 removing an element from the list"
      ],
      "metadata": {
        "id": "EO86tEAWL-HW"
      }
    },
    {
      "cell_type": "code",
      "source": [
        "countries"
      ],
      "metadata": {
        "colab": {
          "base_uri": "https://localhost:8080/"
        },
        "id": "FuZjVve7MFjO",
        "outputId": "700d30ae-7984-4b35-ae06-dbe48e0f6cd0"
      },
      "execution_count": null,
      "outputs": [
        {
          "output_type": "execute_result",
          "data": {
            "text/plain": [
              "['Japan', 'US', 'Bangladesh', 'India', 'Pakistan', 'UK', 'Australia', 'China']"
            ]
          },
          "metadata": {},
          "execution_count": 74
        }
      ]
    },
    {
      "cell_type": "code",
      "source": [
        "countries.remove('Japan')"
      ],
      "metadata": {
        "id": "5n1mWwyVPaI9"
      },
      "execution_count": null,
      "outputs": []
    },
    {
      "cell_type": "code",
      "source": [
        "countries"
      ],
      "metadata": {
        "colab": {
          "base_uri": "https://localhost:8080/"
        },
        "id": "XNgMlLWjPj_t",
        "outputId": "6e63b6eb-e8f4-48c2-a506-8509d2810e54"
      },
      "execution_count": null,
      "outputs": [
        {
          "output_type": "execute_result",
          "data": {
            "text/plain": [
              "['US', 'Bangladesh', 'India', 'Pakistan', 'UK', 'Australia', 'China']"
            ]
          },
          "metadata": {},
          "execution_count": 76
        }
      ]
    },
    {
      "cell_type": "code",
      "source": [
        "countries.pop(-1)"
      ],
      "metadata": {
        "colab": {
          "base_uri": "https://localhost:8080/",
          "height": 35
        },
        "id": "5YNxbbcGPlhL",
        "outputId": "3a0743c6-d754-4d26-9f72-cdb369f62ef7"
      },
      "execution_count": null,
      "outputs": [
        {
          "output_type": "execute_result",
          "data": {
            "text/plain": [
              "'China'"
            ],
            "application/vnd.google.colaboratory.intrinsic+json": {
              "type": "string"
            }
          },
          "metadata": {},
          "execution_count": 77
        }
      ]
    },
    {
      "cell_type": "code",
      "source": [
        "countries"
      ],
      "metadata": {
        "colab": {
          "base_uri": "https://localhost:8080/"
        },
        "id": "DeNUe2oCPuOB",
        "outputId": "79732c3b-ffbc-4c76-b4ab-d7f2f78130f9"
      },
      "execution_count": null,
      "outputs": [
        {
          "output_type": "execute_result",
          "data": {
            "text/plain": [
              "['US', 'Bangladesh', 'India', 'Pakistan', 'UK', 'Australia']"
            ]
          },
          "metadata": {},
          "execution_count": 78
        }
      ]
    },
    {
      "cell_type": "code",
      "source": [
        "del countries[0]"
      ],
      "metadata": {
        "id": "Rz2KXk6MP4OO"
      },
      "execution_count": null,
      "outputs": []
    },
    {
      "cell_type": "code",
      "source": [
        "countries"
      ],
      "metadata": {
        "colab": {
          "base_uri": "https://localhost:8080/"
        },
        "id": "EYMpBq_OP-1n",
        "outputId": "8d964c36-9b19-4477-a16b-d96b9ebc9e0b"
      },
      "execution_count": null,
      "outputs": [
        {
          "output_type": "execute_result",
          "data": {
            "text/plain": [
              "['Bangladesh', 'India', 'Pakistan', 'UK', 'Australia']"
            ]
          },
          "metadata": {},
          "execution_count": 80
        }
      ]
    },
    {
      "cell_type": "markdown",
      "source": [
        "### 4.3 Sorting a list"
      ],
      "metadata": {
        "id": "QylEW0-_QGtk"
      }
    },
    {
      "cell_type": "code",
      "source": [
        "numbers =[211,324,453,53,53,5675,33,4567,3,4]"
      ],
      "metadata": {
        "id": "DL38XUn-QLLm"
      },
      "execution_count": null,
      "outputs": []
    },
    {
      "cell_type": "code",
      "source": [
        "numbers.sort()"
      ],
      "metadata": {
        "id": "2v8MwXfwQXWF"
      },
      "execution_count": null,
      "outputs": []
    },
    {
      "cell_type": "code",
      "source": [
        "numbers"
      ],
      "metadata": {
        "colab": {
          "base_uri": "https://localhost:8080/"
        },
        "id": "EkucoZMPQbO8",
        "outputId": "797a1d20-c0ee-4a4b-c43b-1cce95fb3be3"
      },
      "execution_count": null,
      "outputs": [
        {
          "output_type": "execute_result",
          "data": {
            "text/plain": [
              "[3, 4, 33, 53, 53, 211, 324, 453, 4567, 5675]"
            ]
          },
          "metadata": {},
          "execution_count": 83
        }
      ]
    },
    {
      "cell_type": "code",
      "source": [
        "numbers.sort(reverse=True)"
      ],
      "metadata": {
        "id": "e1JrJwwPQuYh"
      },
      "execution_count": null,
      "outputs": []
    },
    {
      "cell_type": "code",
      "source": [
        "numbers"
      ],
      "metadata": {
        "colab": {
          "base_uri": "https://localhost:8080/"
        },
        "id": "3gIh7UFTQzNY",
        "outputId": "bebe747f-80d2-4c96-d153-6590b0a22c3d"
      },
      "execution_count": null,
      "outputs": [
        {
          "output_type": "execute_result",
          "data": {
            "text/plain": [
              "[5675, 4567, 453, 324, 211, 53, 53, 33, 4, 3]"
            ]
          },
          "metadata": {},
          "execution_count": 85
        }
      ]
    },
    {
      "cell_type": "markdown",
      "source": [
        "### 4.4 Update an Element"
      ],
      "metadata": {
        "id": "xHPN0reDQ-Hx"
      }
    },
    {
      "cell_type": "code",
      "source": [
        "numbers"
      ],
      "metadata": {
        "colab": {
          "base_uri": "https://localhost:8080/"
        },
        "id": "Zsdn4PLCRDh_",
        "outputId": "a8007e90-10e3-4031-eb3b-2c9b8731d21f"
      },
      "execution_count": null,
      "outputs": [
        {
          "output_type": "execute_result",
          "data": {
            "text/plain": [
              "[5675, 4567, 453, 324, 211, 53, 53, 33, 4, 3]"
            ]
          },
          "metadata": {},
          "execution_count": 86
        }
      ]
    },
    {
      "cell_type": "code",
      "source": [
        "numbers[0]=1000"
      ],
      "metadata": {
        "id": "tz0XS2WiRHnU"
      },
      "execution_count": null,
      "outputs": []
    },
    {
      "cell_type": "code",
      "source": [
        "numbers"
      ],
      "metadata": {
        "colab": {
          "base_uri": "https://localhost:8080/"
        },
        "id": "QhiC74aQRKf0",
        "outputId": "85f5136a-b288-42c2-81f5-5036f75d9ea8"
      },
      "execution_count": null,
      "outputs": [
        {
          "output_type": "execute_result",
          "data": {
            "text/plain": [
              "[1000, 4567, 453, 324, 211, 53, 53, 33, 4, 3]"
            ]
          },
          "metadata": {},
          "execution_count": 88
        }
      ]
    },
    {
      "cell_type": "markdown",
      "source": [
        "### 4.5 Copying a list"
      ],
      "metadata": {
        "id": "B6I209F6RQwB"
      }
    },
    {
      "cell_type": "code",
      "source": [
        "countries = ['Japan', 'US', 'Bangladesh', 'India', 'Pakistan', 'UK', 'Australia', 'China']\n",
        "new_list = countries[:]"
      ],
      "metadata": {
        "id": "RwYrvPgARVVC"
      },
      "execution_count": null,
      "outputs": []
    },
    {
      "cell_type": "code",
      "source": [
        "new_list"
      ],
      "metadata": {
        "colab": {
          "base_uri": "https://localhost:8080/"
        },
        "id": "HDaJ4qe8RhIY",
        "outputId": "54ceef08-4a70-47c6-b77a-628688f07678"
      },
      "execution_count": null,
      "outputs": [
        {
          "output_type": "execute_result",
          "data": {
            "text/plain": [
              "['Japan', 'US', 'Bangladesh', 'India', 'Pakistan', 'UK', 'Australia', 'China']"
            ]
          },
          "metadata": {},
          "execution_count": 90
        }
      ]
    },
    {
      "cell_type": "code",
      "source": [
        "new_list2 = countries.copy()"
      ],
      "metadata": {
        "id": "Z17PUU_KRwJx"
      },
      "execution_count": null,
      "outputs": []
    },
    {
      "cell_type": "code",
      "source": [
        "new_list2"
      ],
      "metadata": {
        "id": "H6mpUE33R1pP",
        "outputId": "70954329-87e7-491c-e281-a305525c1830",
        "colab": {
          "base_uri": "https://localhost:8080/"
        }
      },
      "execution_count": null,
      "outputs": [
        {
          "output_type": "execute_result",
          "data": {
            "text/plain": [
              "['Japan', 'US', 'Bangladesh', 'India', 'Pakistan', 'UK', 'Australia', 'China']"
            ]
          },
          "metadata": {},
          "execution_count": 92
        }
      ]
    },
    {
      "cell_type": "markdown",
      "source": [
        "# 5. Dictionary"
      ],
      "metadata": {
        "id": "1zFgjTxOr8af"
      }
    },
    {
      "cell_type": "code",
      "source": [
        "my_dict = {'key1' : 'value1','key2':'value2'}"
      ],
      "metadata": {
        "id": "czHNHo8psCJp"
      },
      "execution_count": null,
      "outputs": []
    },
    {
      "cell_type": "code",
      "source": [
        "my_data ={'name':'Sabuj','age':25,'country':'Bangladesh'}\n",
        "# same as javascript JSON object"
      ],
      "metadata": {
        "id": "pX_pHm7JsW1v"
      },
      "execution_count": null,
      "outputs": []
    },
    {
      "cell_type": "code",
      "source": [
        "my_data"
      ],
      "metadata": {
        "colab": {
          "base_uri": "https://localhost:8080/"
        },
        "id": "YvsHU-tkskID",
        "outputId": "949319c0-0531-425c-dff9-01fcd00c5da7"
      },
      "execution_count": null,
      "outputs": [
        {
          "output_type": "execute_result",
          "data": {
            "text/plain": [
              "{'name': 'Sabuj', 'age': 25, 'country': 'Bangladesh'}"
            ]
          },
          "metadata": {},
          "execution_count": 95
        }
      ]
    },
    {
      "cell_type": "code",
      "source": [
        "my_data.keys()"
      ],
      "metadata": {
        "colab": {
          "base_uri": "https://localhost:8080/"
        },
        "id": "hAAbbbs4snox",
        "outputId": "65b7e0ca-5c40-49b4-c478-68ade8e1ba4a"
      },
      "execution_count": null,
      "outputs": [
        {
          "output_type": "execute_result",
          "data": {
            "text/plain": [
              "dict_keys(['name', 'age', 'country'])"
            ]
          },
          "metadata": {},
          "execution_count": 96
        }
      ]
    },
    {
      "cell_type": "code",
      "source": [
        "my_data.values()"
      ],
      "metadata": {
        "colab": {
          "base_uri": "https://localhost:8080/"
        },
        "id": "-bYic7z8s4wJ",
        "outputId": "d0728f9d-6aff-4f69-d627-bdbdce2d8af2"
      },
      "execution_count": null,
      "outputs": [
        {
          "output_type": "execute_result",
          "data": {
            "text/plain": [
              "dict_values(['Sabuj', 25, 'Bangladesh'])"
            ]
          },
          "metadata": {},
          "execution_count": 97
        }
      ]
    },
    {
      "cell_type": "code",
      "source": [
        "my_data.items()"
      ],
      "metadata": {
        "colab": {
          "base_uri": "https://localhost:8080/"
        },
        "id": "-1BfqjZus-vy",
        "outputId": "57bb37ed-0b62-46f7-d36f-7dc73405c8ef"
      },
      "execution_count": null,
      "outputs": [
        {
          "output_type": "execute_result",
          "data": {
            "text/plain": [
              "dict_items([('name', 'Sabuj'), ('age', 25), ('country', 'Bangladesh')])"
            ]
          },
          "metadata": {},
          "execution_count": 98
        }
      ]
    },
    {
      "cell_type": "code",
      "source": [
        "my_data['height']=5.5"
      ],
      "metadata": {
        "id": "WIn_VxmPtJEw"
      },
      "execution_count": null,
      "outputs": []
    },
    {
      "cell_type": "code",
      "source": [
        "my_data"
      ],
      "metadata": {
        "colab": {
          "base_uri": "https://localhost:8080/"
        },
        "id": "gFL3_7MltV-x",
        "outputId": "d6d45605-1d4c-40de-a2c3-70cd08ac0b89"
      },
      "execution_count": null,
      "outputs": [
        {
          "output_type": "execute_result",
          "data": {
            "text/plain": [
              "{'name': 'Sabuj', 'age': 25, 'country': 'Bangladesh', 'height': 5.5}"
            ]
          },
          "metadata": {},
          "execution_count": 100
        }
      ]
    },
    {
      "cell_type": "code",
      "source": [
        "my_data.update({'height':5.4})"
      ],
      "metadata": {
        "id": "-MkKtDU8taSv"
      },
      "execution_count": null,
      "outputs": []
    },
    {
      "cell_type": "code",
      "source": [
        "my_data"
      ],
      "metadata": {
        "colab": {
          "base_uri": "https://localhost:8080/"
        },
        "id": "6Yp8JjNXtoIx",
        "outputId": "3e66e66a-f1a6-43b7-977d-b4f5c70c987a"
      },
      "execution_count": null,
      "outputs": [
        {
          "output_type": "execute_result",
          "data": {
            "text/plain": [
              "{'name': 'Sabuj', 'age': 25, 'country': 'Bangladesh', 'height': 5.4}"
            ]
          },
          "metadata": {},
          "execution_count": 102
        }
      ]
    },
    {
      "cell_type": "markdown",
      "source": [
        "### 5.1 Copy a Dictionary"
      ],
      "metadata": {
        "id": "DX27z7-bt3n2"
      }
    },
    {
      "cell_type": "code",
      "source": [
        "new_dict = my_data.copy()"
      ],
      "metadata": {
        "id": "jH9qjP5qt-IB"
      },
      "execution_count": null,
      "outputs": []
    },
    {
      "cell_type": "code",
      "source": [
        "new_dict"
      ],
      "metadata": {
        "colab": {
          "base_uri": "https://localhost:8080/"
        },
        "id": "2rlxAveEuPlZ",
        "outputId": "65e9a7ac-0967-4fa1-c6cb-e3f4173efef9"
      },
      "execution_count": null,
      "outputs": [
        {
          "output_type": "execute_result",
          "data": {
            "text/plain": [
              "{'name': 'Sabuj', 'age': 25, 'country': 'Bangladesh', 'height': 5.4}"
            ]
          },
          "metadata": {},
          "execution_count": 104
        }
      ]
    },
    {
      "cell_type": "markdown",
      "source": [
        "### 5.3 Remove Element"
      ],
      "metadata": {
        "id": "7AUsqJ0vu7iR"
      }
    },
    {
      "cell_type": "code",
      "source": [
        "my_data.pop('height')"
      ],
      "metadata": {
        "colab": {
          "base_uri": "https://localhost:8080/"
        },
        "id": "z7T68prgvA9z",
        "outputId": "d46ca68e-5d54-4135-caca-f9e9220edca3"
      },
      "execution_count": null,
      "outputs": [
        {
          "output_type": "execute_result",
          "data": {
            "text/plain": [
              "5.4"
            ]
          },
          "metadata": {},
          "execution_count": 105
        }
      ]
    },
    {
      "cell_type": "code",
      "source": [
        "my_data"
      ],
      "metadata": {
        "colab": {
          "base_uri": "https://localhost:8080/"
        },
        "id": "0mu43NS-vFAs",
        "outputId": "b68654e5-ebdb-4d17-de64-7d3e012131d1"
      },
      "execution_count": null,
      "outputs": [
        {
          "output_type": "execute_result",
          "data": {
            "text/plain": [
              "{'name': 'Sabuj', 'age': 25, 'country': 'Bangladesh'}"
            ]
          },
          "metadata": {},
          "execution_count": 106
        }
      ]
    },
    {
      "cell_type": "markdown",
      "source": [
        "# 6. If Statement"
      ],
      "metadata": {
        "id": "fXHSq-4cvXgo"
      }
    },
    {
      "cell_type": "code",
      "source": [
        "age = 17\n",
        "\n",
        "if age >= 18:\n",
        "  print('Adult')\n",
        "elif age >=13:\n",
        "  print('teenager')\n",
        "else:\n",
        "  print('Kid')"
      ],
      "metadata": {
        "colab": {
          "base_uri": "https://localhost:8080/"
        },
        "id": "JGOPgk6gvda8",
        "outputId": "7a5e55fa-e195-40cc-91d0-73ac60d66e70"
      },
      "execution_count": null,
      "outputs": [
        {
          "output_type": "stream",
          "name": "stdout",
          "text": [
            "teenager\n"
          ]
        }
      ]
    },
    {
      "cell_type": "markdown",
      "source": [
        "# 7. For Loop"
      ],
      "metadata": {
        "id": "PkiylSv5wmrK"
      }
    },
    {
      "cell_type": "code",
      "source": [
        "countries"
      ],
      "metadata": {
        "colab": {
          "base_uri": "https://localhost:8080/"
        },
        "id": "lM7a2K6mwqeQ",
        "outputId": "26a15fdd-4f1b-4b03-c59e-4e009ec9e6e8"
      },
      "execution_count": null,
      "outputs": [
        {
          "output_type": "execute_result",
          "data": {
            "text/plain": [
              "['Japan', 'US', 'Bangladesh', 'India', 'Pakistan', 'UK', 'Australia', 'China']"
            ]
          },
          "metadata": {},
          "execution_count": 108
        }
      ]
    },
    {
      "cell_type": "code",
      "source": [
        "for country in countries:\n",
        "  print(country)"
      ],
      "metadata": {
        "colab": {
          "base_uri": "https://localhost:8080/"
        },
        "id": "E8rqLb3-w67Z",
        "outputId": "41e476f5-4646-4413-ffc0-66aee4da6caf"
      },
      "execution_count": null,
      "outputs": [
        {
          "output_type": "stream",
          "name": "stdout",
          "text": [
            "Japan\n",
            "US\n",
            "Bangladesh\n",
            "India\n",
            "Pakistan\n",
            "UK\n",
            "Australia\n",
            "China\n"
          ]
        }
      ]
    },
    {
      "cell_type": "code",
      "source": [
        "for i, country in enumerate (countries):\n",
        "  print(i,country)"
      ],
      "metadata": {
        "colab": {
          "base_uri": "https://localhost:8080/"
        },
        "id": "_P4lqK6AxUex",
        "outputId": "926e19be-e474-472c-a510-b7ed47144dfc"
      },
      "execution_count": null,
      "outputs": [
        {
          "output_type": "stream",
          "name": "stdout",
          "text": [
            "0 Japan\n",
            "1 US\n",
            "2 Bangladesh\n",
            "3 India\n",
            "4 Pakistan\n",
            "5 UK\n",
            "6 Australia\n",
            "7 China\n"
          ]
        }
      ]
    },
    {
      "cell_type": "code",
      "source": [
        "my_data"
      ],
      "metadata": {
        "colab": {
          "base_uri": "https://localhost:8080/"
        },
        "id": "Yimny_zix6FD",
        "outputId": "73fc7f60-335d-4870-d2da-1a15a8dea573"
      },
      "execution_count": null,
      "outputs": [
        {
          "output_type": "execute_result",
          "data": {
            "text/plain": [
              "{'name': 'Sabuj', 'age': 25, 'country': 'Bangladesh'}"
            ]
          },
          "metadata": {},
          "execution_count": 111
        }
      ]
    },
    {
      "cell_type": "code",
      "source": [
        "for key,value in my_data.items():\n",
        "  print(key,value)"
      ],
      "metadata": {
        "colab": {
          "base_uri": "https://localhost:8080/"
        },
        "id": "1PfnY6UDyJKI",
        "outputId": "36eb7349-4a92-44d0-a3b3-5339433c6bc1"
      },
      "execution_count": null,
      "outputs": [
        {
          "output_type": "stream",
          "name": "stdout",
          "text": [
            "name Sabuj\n",
            "age 25\n",
            "country Bangladesh\n"
          ]
        }
      ]
    },
    {
      "cell_type": "markdown",
      "source": [
        "# 8. Functions"
      ],
      "metadata": {
        "id": "I_tVRwgqys1-"
      }
    },
    {
      "cell_type": "code",
      "source": [
        "def showValue(a,b):\n",
        "  return a+b"
      ],
      "metadata": {
        "id": "WfFavPBAyv6p"
      },
      "execution_count": null,
      "outputs": []
    },
    {
      "cell_type": "code",
      "source": [
        "print(showValue(2,3))"
      ],
      "metadata": {
        "colab": {
          "base_uri": "https://localhost:8080/"
        },
        "id": "yYbD9GI4y9NC",
        "outputId": "b96bc885-3a5b-439a-fd0f-875cad4774d2"
      },
      "execution_count": null,
      "outputs": [
        {
          "output_type": "stream",
          "name": "stdout",
          "text": [
            "5\n"
          ]
        }
      ]
    },
    {
      "cell_type": "markdown",
      "source": [
        "### 8.1 Built-in Functions"
      ],
      "metadata": {
        "id": "VEDWQeY8zP4H"
      }
    },
    {
      "cell_type": "code",
      "source": [
        "countries"
      ],
      "metadata": {
        "colab": {
          "base_uri": "https://localhost:8080/"
        },
        "id": "ic5EabfgzUdZ",
        "outputId": "e6876601-f045-4222-b164-2ed8bcbbab9c"
      },
      "execution_count": null,
      "outputs": [
        {
          "output_type": "execute_result",
          "data": {
            "text/plain": [
              "['Japan', 'US', 'Bangladesh', 'India', 'Pakistan', 'UK', 'Australia', 'China']"
            ]
          },
          "metadata": {},
          "execution_count": 115
        }
      ]
    },
    {
      "cell_type": "code",
      "source": [
        "len(countries)"
      ],
      "metadata": {
        "colab": {
          "base_uri": "https://localhost:8080/"
        },
        "id": "a-KAYDOfzXOw",
        "outputId": "b413d91e-171e-4048-f9b1-3beeac662538"
      },
      "execution_count": null,
      "outputs": [
        {
          "output_type": "execute_result",
          "data": {
            "text/plain": [
              "8"
            ]
          },
          "metadata": {},
          "execution_count": 116
        }
      ]
    },
    {
      "cell_type": "code",
      "source": [
        "len('hello')"
      ],
      "metadata": {
        "colab": {
          "base_uri": "https://localhost:8080/"
        },
        "id": "SE7NTVClzZuJ",
        "outputId": "3fd141cc-88d2-4680-acbe-69691c6f12b0"
      },
      "execution_count": null,
      "outputs": [
        {
          "output_type": "execute_result",
          "data": {
            "text/plain": [
              "5"
            ]
          },
          "metadata": {},
          "execution_count": 117
        }
      ]
    },
    {
      "cell_type": "code",
      "source": [
        "max([35,26748,273,83,9,27623,38268,364])"
      ],
      "metadata": {
        "colab": {
          "base_uri": "https://localhost:8080/"
        },
        "id": "Mlkc0kqXzeix",
        "outputId": "e43921ed-1387-4bd4-9cd7-26adabb3a230"
      },
      "execution_count": null,
      "outputs": [
        {
          "output_type": "execute_result",
          "data": {
            "text/plain": [
              "38268"
            ]
          },
          "metadata": {},
          "execution_count": 119
        }
      ]
    },
    {
      "cell_type": "code",
      "source": [
        "min([35,26748,273,83,9,27623,38268,364])"
      ],
      "metadata": {
        "colab": {
          "base_uri": "https://localhost:8080/"
        },
        "id": "-BA3uc6JzmIR",
        "outputId": "d79de13f-87ed-4270-edd4-c1da00934a51"
      },
      "execution_count": null,
      "outputs": [
        {
          "output_type": "execute_result",
          "data": {
            "text/plain": [
              "9"
            ]
          },
          "metadata": {},
          "execution_count": 120
        }
      ]
    },
    {
      "cell_type": "code",
      "source": [
        "type(my_data)"
      ],
      "metadata": {
        "colab": {
          "base_uri": "https://localhost:8080/"
        },
        "id": "RdvuRsNOzwBQ",
        "outputId": "b662a8ba-dfc1-4a96-cb19-016ca36cc641"
      },
      "execution_count": null,
      "outputs": [
        {
          "output_type": "execute_result",
          "data": {
            "text/plain": [
              "dict"
            ]
          },
          "metadata": {},
          "execution_count": 121
        }
      ]
    },
    {
      "cell_type": "code",
      "source": [
        "for i in range(1,10,2):\n",
        "  print(i)"
      ],
      "metadata": {
        "colab": {
          "base_uri": "https://localhost:8080/"
        },
        "id": "QHgrPrN7z0R_",
        "outputId": "90f1872f-8c10-45b9-ec67-fbbba83731be"
      },
      "execution_count": null,
      "outputs": [
        {
          "output_type": "stream",
          "name": "stdout",
          "text": [
            "1\n",
            "3\n",
            "5\n",
            "7\n",
            "9\n"
          ]
        }
      ]
    }
  ]
}