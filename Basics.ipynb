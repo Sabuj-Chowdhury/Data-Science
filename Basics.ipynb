{
  "nbformat": 4,
  "nbformat_minor": 0,
  "metadata": {
    "colab": {
      "provenance": []
    },
    "kernelspec": {
      "name": "python3",
      "display_name": "Python 3"
    },
    "language_info": {
      "name": "python"
    }
  },
  "cells": [
    {
      "cell_type": "markdown",
      "source": [
        "#1. Hello world"
      ],
      "metadata": {
        "id": "5eqbaAB2D_8I"
      }
    },
    {
      "cell_type": "code",
      "source": [
        "print('hello world')"
      ],
      "metadata": {
        "colab": {
          "base_uri": "https://localhost:8080/"
        },
        "id": "tyuj3GeaEGqA",
        "outputId": "76358a65-ca3b-48b6-c7d7-866c385fc106"
      },
      "execution_count": 3,
      "outputs": [
        {
          "output_type": "stream",
          "name": "stdout",
          "text": [
            "hello world\n"
          ]
        }
      ]
    },
    {
      "cell_type": "code",
      "source": [
        "\"Hello world\""
      ],
      "metadata": {
        "colab": {
          "base_uri": "https://localhost:8080/",
          "height": 35
        },
        "id": "BhO-4pXvEWEu",
        "outputId": "1f37d16b-f9d2-4d5d-957e-2049ca2acb38"
      },
      "execution_count": 4,
      "outputs": [
        {
          "output_type": "execute_result",
          "data": {
            "text/plain": [
              "'Hello world'"
            ],
            "application/vnd.google.colaboratory.intrinsic+json": {
              "type": "string"
            }
          },
          "metadata": {},
          "execution_count": 4
        }
      ]
    },
    {
      "cell_type": "markdown",
      "source": [
        "#2. Data types"
      ],
      "metadata": {
        "id": "R1axaT9rEG_X"
      }
    },
    {
      "cell_type": "code",
      "source": [
        "type('Hello word')"
      ],
      "metadata": {
        "colab": {
          "base_uri": "https://localhost:8080/"
        },
        "id": "74N0I7pIEgRK",
        "outputId": "a964d32c-c250-4f98-d72f-9aaebe80b3eb"
      },
      "execution_count": 5,
      "outputs": [
        {
          "output_type": "execute_result",
          "data": {
            "text/plain": [
              "str"
            ]
          },
          "metadata": {},
          "execution_count": 5
        }
      ]
    },
    {
      "cell_type": "code",
      "source": [
        "type(True)"
      ],
      "metadata": {
        "colab": {
          "base_uri": "https://localhost:8080/"
        },
        "id": "chvJX4O1EqGJ",
        "outputId": "8a9b5ce8-9b46-4dbf-8aa4-b1b5ac2824ec"
      },
      "execution_count": 6,
      "outputs": [
        {
          "output_type": "execute_result",
          "data": {
            "text/plain": [
              "bool"
            ]
          },
          "metadata": {},
          "execution_count": 6
        }
      ]
    },
    {
      "cell_type": "markdown",
      "source": [
        "### 2.1 methods in string in python"
      ],
      "metadata": {
        "id": "vRBME51eExEi"
      }
    },
    {
      "cell_type": "code",
      "source": [
        "('hello').upper()"
      ],
      "metadata": {
        "colab": {
          "base_uri": "https://localhost:8080/",
          "height": 35
        },
        "id": "_bKH6XpSE3DH",
        "outputId": "833e3332-803f-4aa7-9767-19996a3ad4a1"
      },
      "execution_count": 8,
      "outputs": [
        {
          "output_type": "execute_result",
          "data": {
            "text/plain": [
              "'HELLO'"
            ],
            "application/vnd.google.colaboratory.intrinsic+json": {
              "type": "string"
            }
          },
          "metadata": {},
          "execution_count": 8
        }
      ]
    },
    {
      "cell_type": "code",
      "source": [
        "('Hello World').count('l')"
      ],
      "metadata": {
        "colab": {
          "base_uri": "https://localhost:8080/"
        },
        "id": "3CfiWE3kFuHr",
        "outputId": "df3f0656-a761-49eb-da3d-f52395f90496"
      },
      "execution_count": 11,
      "outputs": [
        {
          "output_type": "execute_result",
          "data": {
            "text/plain": [
              "3"
            ]
          },
          "metadata": {},
          "execution_count": 11
        }
      ]
    },
    {
      "cell_type": "code",
      "source": [
        "('Hello').lower()"
      ],
      "metadata": {
        "colab": {
          "base_uri": "https://localhost:8080/",
          "height": 35
        },
        "id": "1Uzuo9QfFQYT",
        "outputId": "3292e299-effc-42f2-ac96-4a738d4594dd"
      },
      "execution_count": 9,
      "outputs": [
        {
          "output_type": "execute_result",
          "data": {
            "text/plain": [
              "'hello'"
            ],
            "application/vnd.google.colaboratory.intrinsic+json": {
              "type": "string"
            }
          },
          "metadata": {},
          "execution_count": 9
        }
      ]
    },
    {
      "cell_type": "code",
      "source": [
        "('hello world').title()"
      ],
      "metadata": {
        "colab": {
          "base_uri": "https://localhost:8080/",
          "height": 35
        },
        "id": "FxSW28lmFTR-",
        "outputId": "fb492053-a4ac-4a16-f4bf-b0c2fab03c41"
      },
      "execution_count": 10,
      "outputs": [
        {
          "output_type": "execute_result",
          "data": {
            "text/plain": [
              "'Hello World'"
            ],
            "application/vnd.google.colaboratory.intrinsic+json": {
              "type": "string"
            }
          },
          "metadata": {},
          "execution_count": 10
        }
      ]
    },
    {
      "cell_type": "code",
      "source": [
        "('Hello world').replace('o','u')"
      ],
      "metadata": {
        "colab": {
          "base_uri": "https://localhost:8080/",
          "height": 35
        },
        "id": "d0zlPFwZF1jx",
        "outputId": "14f7c063-2705-4b5e-f1ec-ca1517112161"
      },
      "execution_count": 12,
      "outputs": [
        {
          "output_type": "execute_result",
          "data": {
            "text/plain": [
              "'Hellu wurld'"
            ],
            "application/vnd.google.colaboratory.intrinsic+json": {
              "type": "string"
            }
          },
          "metadata": {},
          "execution_count": 12
        }
      ]
    },
    {
      "cell_type": "markdown",
      "source": [
        "# 3. Variables"
      ],
      "metadata": {
        "id": "FSz2txhXGEFw"
      }
    },
    {
      "cell_type": "code",
      "source": [
        "message = 'I am learning data science'\n",
        "message_2 = \"and it's fun\"\n"
      ],
      "metadata": {
        "id": "IAYSeyqOGHru"
      },
      "execution_count": 17,
      "outputs": []
    },
    {
      "cell_type": "code",
      "source": [
        "print(message + ' ' +message_2)"
      ],
      "metadata": {
        "colab": {
          "base_uri": "https://localhost:8080/"
        },
        "id": "Bv8o7R3cGVGK",
        "outputId": "93f00f19-fb3d-4cd5-8fa6-435b0285abee"
      },
      "execution_count": 19,
      "outputs": [
        {
          "output_type": "stream",
          "name": "stdout",
          "text": [
            "I am learning data science and it's fun\n"
          ]
        }
      ]
    },
    {
      "cell_type": "code",
      "source": [
        "f'Hello {message} {message_2}'"
      ],
      "metadata": {
        "colab": {
          "base_uri": "https://localhost:8080/",
          "height": 35
        },
        "id": "f02oN-7lG49o",
        "outputId": "c8d636c3-8de9-4126-ffd1-07f1551f30d2"
      },
      "execution_count": 20,
      "outputs": [
        {
          "output_type": "execute_result",
          "data": {
            "text/plain": [
              "\"Hello I am learning data science and it's fun\""
            ],
            "application/vnd.google.colaboratory.intrinsic+json": {
              "type": "string"
            }
          },
          "metadata": {},
          "execution_count": 20
        }
      ]
    },
    {
      "cell_type": "markdown",
      "source": [
        "# 4. List"
      ],
      "metadata": {
        "id": "R7PeRM71HNKt"
      }
    },
    {
      "cell_type": "code",
      "source": [
        "countries = ['US','Bangladesh','India','Pakistan','UK','Australia']\n",
        "# list can have duplicate value\n",
        "# list can have diffrent data types in the list"
      ],
      "metadata": {
        "id": "BbbgUAFOHQsd"
      },
      "execution_count": 25,
      "outputs": []
    },
    {
      "cell_type": "code",
      "source": [
        "countries"
      ],
      "metadata": {
        "colab": {
          "base_uri": "https://localhost:8080/"
        },
        "id": "N-XTlg0mHmmg",
        "outputId": "3a176bf1-53d5-415b-ec1e-344dde6a4f42"
      },
      "execution_count": 22,
      "outputs": [
        {
          "output_type": "execute_result",
          "data": {
            "text/plain": [
              "['US', 'Bangladesh', 'India', 'Pakistan', 'UK', 'Australia']"
            ]
          },
          "metadata": {},
          "execution_count": 22
        }
      ]
    },
    {
      "cell_type": "code",
      "source": [
        "countries[1]"
      ],
      "metadata": {
        "colab": {
          "base_uri": "https://localhost:8080/",
          "height": 35
        },
        "id": "FwsYmCRhHxKH",
        "outputId": "f1ec1dae-095f-43b1-809b-3d7603bbb3bc"
      },
      "execution_count": 23,
      "outputs": [
        {
          "output_type": "execute_result",
          "data": {
            "text/plain": [
              "'Bangladesh'"
            ],
            "application/vnd.google.colaboratory.intrinsic+json": {
              "type": "string"
            }
          },
          "metadata": {},
          "execution_count": 23
        }
      ]
    },
    {
      "cell_type": "code",
      "source": [
        "print(countries[0])\n",
        "print(countries[1])\n",
        "print(countries[2])\n",
        "print(countries[3])\n",
        "print(countries[4])"
      ],
      "metadata": {
        "colab": {
          "base_uri": "https://localhost:8080/"
        },
        "id": "H87waCiKIHa0",
        "outputId": "d0c1db9d-55cd-4809-f602-0260fcd7d517"
      },
      "execution_count": 26,
      "outputs": [
        {
          "output_type": "stream",
          "name": "stdout",
          "text": [
            "US\n",
            "Bangladesh\n",
            "India\n",
            "Pakistan\n",
            "UK\n"
          ]
        }
      ]
    },
    {
      "cell_type": "code",
      "source": [
        "countries[-1]\n",
        "# this -1 represents the last element of the list\n",
        "# for example:  -1 : Australia, -2 : UK and so on ...."
      ],
      "metadata": {
        "colab": {
          "base_uri": "https://localhost:8080/",
          "height": 35
        },
        "id": "M2Bdwa2dIg3p",
        "outputId": "671e1ac6-5eb9-4571-efbb-51601b5cff2f"
      },
      "execution_count": 28,
      "outputs": [
        {
          "output_type": "execute_result",
          "data": {
            "text/plain": [
              "'Australia'"
            ],
            "application/vnd.google.colaboratory.intrinsic+json": {
              "type": "string"
            }
          },
          "metadata": {},
          "execution_count": 28
        }
      ]
    },
    {
      "cell_type": "code",
      "source": [
        "countries[-5]"
      ],
      "metadata": {
        "colab": {
          "base_uri": "https://localhost:8080/",
          "height": 35
        },
        "id": "hMfONkxFIvYN",
        "outputId": "735a9575-8b23-4874-986f-f8dcbaece56a"
      },
      "execution_count": 29,
      "outputs": [
        {
          "output_type": "execute_result",
          "data": {
            "text/plain": [
              "'Bangladesh'"
            ],
            "application/vnd.google.colaboratory.intrinsic+json": {
              "type": "string"
            }
          },
          "metadata": {},
          "execution_count": 29
        }
      ]
    },
    {
      "cell_type": "code",
      "source": [
        "# slicing\n",
        "# list_name [start:stop]\n",
        "countries[0:3]"
      ],
      "metadata": {
        "colab": {
          "base_uri": "https://localhost:8080/"
        },
        "id": "J7poZCjSJGTN",
        "outputId": "a64917da-604a-4641-9c21-6c15439494b6"
      },
      "execution_count": 31,
      "outputs": [
        {
          "output_type": "execute_result",
          "data": {
            "text/plain": [
              "['US', 'Bangladesh', 'India']"
            ]
          },
          "metadata": {},
          "execution_count": 31
        }
      ]
    },
    {
      "cell_type": "code",
      "source": [
        "# another way\n",
        "countries[:3]"
      ],
      "metadata": {
        "colab": {
          "base_uri": "https://localhost:8080/"
        },
        "id": "vHU2wWM7KCzf",
        "outputId": "e7f6e84c-87ac-4979-cabe-ce18c438d2aa"
      },
      "execution_count": 33,
      "outputs": [
        {
          "output_type": "execute_result",
          "data": {
            "text/plain": [
              "['US', 'Bangladesh', 'India']"
            ]
          },
          "metadata": {},
          "execution_count": 33
        }
      ]
    },
    {
      "cell_type": "code",
      "source": [
        "countries[0:1]"
      ],
      "metadata": {
        "colab": {
          "base_uri": "https://localhost:8080/"
        },
        "id": "dX4_T6oHJoND",
        "outputId": "5e59a97a-a3a8-4828-ad51-1a4c9c46bd24"
      },
      "execution_count": 32,
      "outputs": [
        {
          "output_type": "execute_result",
          "data": {
            "text/plain": [
              "['US']"
            ]
          },
          "metadata": {},
          "execution_count": 32
        }
      ]
    },
    {
      "cell_type": "code",
      "source": [
        "# another way\n",
        "countries[:1]"
      ],
      "metadata": {
        "colab": {
          "base_uri": "https://localhost:8080/"
        },
        "id": "qee5FnisKKvm",
        "outputId": "362398c4-c13e-4070-e8b8-0cbaec3836b2"
      },
      "execution_count": 34,
      "outputs": [
        {
          "output_type": "execute_result",
          "data": {
            "text/plain": [
              "['US']"
            ]
          },
          "metadata": {},
          "execution_count": 34
        }
      ]
    },
    {
      "cell_type": "code",
      "source": [
        "countries[3:6]"
      ],
      "metadata": {
        "colab": {
          "base_uri": "https://localhost:8080/"
        },
        "id": "iu0V68g8KWrr",
        "outputId": "76222693-23db-46e3-af01-8eb97a80b8a9"
      },
      "execution_count": 35,
      "outputs": [
        {
          "output_type": "execute_result",
          "data": {
            "text/plain": [
              "['Pakistan', 'UK', 'Australia']"
            ]
          },
          "metadata": {},
          "execution_count": 35
        }
      ]
    },
    {
      "cell_type": "code",
      "source": [
        "# another way\n",
        "countries[3:]"
      ],
      "metadata": {
        "colab": {
          "base_uri": "https://localhost:8080/"
        },
        "id": "asIjo-R1Kbyw",
        "outputId": "912cdf47-e0d7-4b37-9620-0c6b663c36dc"
      },
      "execution_count": 37,
      "outputs": [
        {
          "output_type": "execute_result",
          "data": {
            "text/plain": [
              "['Pakistan', 'UK', 'Australia']"
            ]
          },
          "metadata": {},
          "execution_count": 37
        }
      ]
    },
    {
      "cell_type": "markdown",
      "source": [
        "### 4.1 adding elements to a list"
      ],
      "metadata": {
        "id": "WnrnidX0KpQG"
      }
    },
    {
      "cell_type": "code",
      "source": [
        "countries"
      ],
      "metadata": {
        "colab": {
          "base_uri": "https://localhost:8080/"
        },
        "id": "qXDa9X68KvFJ",
        "outputId": "b3cfc4b5-cb23-413c-ac96-2776b00c1301"
      },
      "execution_count": 38,
      "outputs": [
        {
          "output_type": "execute_result",
          "data": {
            "text/plain": [
              "['US', 'Bangladesh', 'India', 'Pakistan', 'UK', 'Australia']"
            ]
          },
          "metadata": {},
          "execution_count": 38
        }
      ]
    },
    {
      "cell_type": "code",
      "source": [
        "countries.append('China')"
      ],
      "metadata": {
        "id": "Pb34pHgvKdXi"
      },
      "execution_count": 39,
      "outputs": []
    },
    {
      "cell_type": "code",
      "source": [
        "countries"
      ],
      "metadata": {
        "colab": {
          "base_uri": "https://localhost:8080/"
        },
        "id": "uNQJJ7NHK3Jd",
        "outputId": "97ee1491-f587-45d7-806d-aff74185bde7"
      },
      "execution_count": 40,
      "outputs": [
        {
          "output_type": "execute_result",
          "data": {
            "text/plain": [
              "['US', 'Bangladesh', 'India', 'Pakistan', 'UK', 'Australia', 'China']"
            ]
          },
          "metadata": {},
          "execution_count": 40
        }
      ]
    },
    {
      "cell_type": "code",
      "source": [
        "countries.insert(0,'Japan')"
      ],
      "metadata": {
        "id": "HuMPfuy2LCqW"
      },
      "execution_count": 41,
      "outputs": []
    },
    {
      "cell_type": "code",
      "source": [
        "countries"
      ],
      "metadata": {
        "colab": {
          "base_uri": "https://localhost:8080/"
        },
        "id": "zqUIhw2bLK_l",
        "outputId": "66b0aed5-5e2d-4f0f-b659-64fd599d2214"
      },
      "execution_count": 42,
      "outputs": [
        {
          "output_type": "execute_result",
          "data": {
            "text/plain": [
              "['Japan', 'US', 'Bangladesh', 'India', 'Pakistan', 'UK', 'Australia', 'China']"
            ]
          },
          "metadata": {},
          "execution_count": 42
        }
      ]
    },
    {
      "cell_type": "code",
      "source": [
        "countries_2=['UK','Germany','Austria']"
      ],
      "metadata": {
        "id": "KyEJgWqMLiH6"
      },
      "execution_count": 43,
      "outputs": []
    },
    {
      "cell_type": "code",
      "source": [
        "countries + countries_2"
      ],
      "metadata": {
        "colab": {
          "base_uri": "https://localhost:8080/"
        },
        "id": "no0t7fjqLqn6",
        "outputId": "a01e3378-404e-429d-da06-6dba172ebf52"
      },
      "execution_count": 44,
      "outputs": [
        {
          "output_type": "execute_result",
          "data": {
            "text/plain": [
              "['Japan',\n",
              " 'US',\n",
              " 'Bangladesh',\n",
              " 'India',\n",
              " 'Pakistan',\n",
              " 'UK',\n",
              " 'Australia',\n",
              " 'China',\n",
              " 'UK',\n",
              " 'Germany',\n",
              " 'Austria']"
            ]
          },
          "metadata": {},
          "execution_count": 44
        }
      ]
    },
    {
      "cell_type": "code",
      "source": [
        "nested_list =[countries,countries_2]"
      ],
      "metadata": {
        "id": "d2DUFmeYLvIh"
      },
      "execution_count": 45,
      "outputs": []
    },
    {
      "cell_type": "code",
      "source": [
        "nested_list"
      ],
      "metadata": {
        "colab": {
          "base_uri": "https://localhost:8080/"
        },
        "id": "97NbTehVL2uR",
        "outputId": "8bc47a8c-3fe1-4ff0-d09a-cf14ed20c6f1"
      },
      "execution_count": 46,
      "outputs": [
        {
          "output_type": "execute_result",
          "data": {
            "text/plain": [
              "[['Japan',\n",
              "  'US',\n",
              "  'Bangladesh',\n",
              "  'India',\n",
              "  'Pakistan',\n",
              "  'UK',\n",
              "  'Australia',\n",
              "  'China'],\n",
              " ['UK', 'Germany', 'Austria']]"
            ]
          },
          "metadata": {},
          "execution_count": 46
        }
      ]
    },
    {
      "cell_type": "markdown",
      "source": [
        "### 4.2 removing an element from the list"
      ],
      "metadata": {
        "id": "EO86tEAWL-HW"
      }
    },
    {
      "cell_type": "code",
      "source": [
        "countries"
      ],
      "metadata": {
        "colab": {
          "base_uri": "https://localhost:8080/"
        },
        "id": "FuZjVve7MFjO",
        "outputId": "120aeaec-8f23-4c9a-b377-dd02c67216e2"
      },
      "execution_count": 47,
      "outputs": [
        {
          "output_type": "execute_result",
          "data": {
            "text/plain": [
              "['Japan', 'US', 'Bangladesh', 'India', 'Pakistan', 'UK', 'Australia', 'China']"
            ]
          },
          "metadata": {},
          "execution_count": 47
        }
      ]
    },
    {
      "cell_type": "code",
      "source": [
        "countries.remove('Japan')"
      ],
      "metadata": {
        "id": "5n1mWwyVPaI9"
      },
      "execution_count": 49,
      "outputs": []
    },
    {
      "cell_type": "code",
      "source": [
        "countries"
      ],
      "metadata": {
        "colab": {
          "base_uri": "https://localhost:8080/"
        },
        "id": "XNgMlLWjPj_t",
        "outputId": "82fc5be5-823e-4fa4-f9ad-49231d02eccc"
      },
      "execution_count": 50,
      "outputs": [
        {
          "output_type": "execute_result",
          "data": {
            "text/plain": [
              "['US', 'Bangladesh', 'India', 'Pakistan', 'UK', 'Australia', 'China']"
            ]
          },
          "metadata": {},
          "execution_count": 50
        }
      ]
    },
    {
      "cell_type": "code",
      "source": [
        "countries.pop(-1)"
      ],
      "metadata": {
        "colab": {
          "base_uri": "https://localhost:8080/",
          "height": 35
        },
        "id": "5YNxbbcGPlhL",
        "outputId": "5ee70dca-dbb2-4767-810b-1364ab7f0e54"
      },
      "execution_count": 51,
      "outputs": [
        {
          "output_type": "execute_result",
          "data": {
            "text/plain": [
              "'China'"
            ],
            "application/vnd.google.colaboratory.intrinsic+json": {
              "type": "string"
            }
          },
          "metadata": {},
          "execution_count": 51
        }
      ]
    },
    {
      "cell_type": "code",
      "source": [
        "countries"
      ],
      "metadata": {
        "colab": {
          "base_uri": "https://localhost:8080/"
        },
        "id": "DeNUe2oCPuOB",
        "outputId": "f232eeef-4ffe-4cd0-c390-e3c480417774"
      },
      "execution_count": 52,
      "outputs": [
        {
          "output_type": "execute_result",
          "data": {
            "text/plain": [
              "['US', 'Bangladesh', 'India', 'Pakistan', 'UK', 'Australia']"
            ]
          },
          "metadata": {},
          "execution_count": 52
        }
      ]
    },
    {
      "cell_type": "code",
      "source": [
        "del countries[0]"
      ],
      "metadata": {
        "id": "Rz2KXk6MP4OO"
      },
      "execution_count": 53,
      "outputs": []
    },
    {
      "cell_type": "code",
      "source": [
        "countries"
      ],
      "metadata": {
        "colab": {
          "base_uri": "https://localhost:8080/"
        },
        "id": "EYMpBq_OP-1n",
        "outputId": "bf0aa2eb-eb0c-4bc7-8ffa-25fa217c8ae0"
      },
      "execution_count": 54,
      "outputs": [
        {
          "output_type": "execute_result",
          "data": {
            "text/plain": [
              "['Bangladesh', 'India', 'Pakistan', 'UK', 'Australia']"
            ]
          },
          "metadata": {},
          "execution_count": 54
        }
      ]
    },
    {
      "cell_type": "markdown",
      "source": [
        "### 4.3 Sorting a list"
      ],
      "metadata": {
        "id": "QylEW0-_QGtk"
      }
    },
    {
      "cell_type": "code",
      "source": [
        "numbers =[211,324,453,53,53,5675,33,4567,3,4]"
      ],
      "metadata": {
        "id": "DL38XUn-QLLm"
      },
      "execution_count": 56,
      "outputs": []
    },
    {
      "cell_type": "code",
      "source": [
        "numbers.sort()"
      ],
      "metadata": {
        "id": "2v8MwXfwQXWF"
      },
      "execution_count": 57,
      "outputs": []
    },
    {
      "cell_type": "code",
      "source": [
        "numbers"
      ],
      "metadata": {
        "colab": {
          "base_uri": "https://localhost:8080/"
        },
        "id": "EkucoZMPQbO8",
        "outputId": "49edb37a-0548-42a2-eda4-7709663e006b"
      },
      "execution_count": 58,
      "outputs": [
        {
          "output_type": "execute_result",
          "data": {
            "text/plain": [
              "[3, 4, 33, 53, 53, 211, 324, 453, 4567, 5675]"
            ]
          },
          "metadata": {},
          "execution_count": 58
        }
      ]
    },
    {
      "cell_type": "code",
      "source": [
        "numbers.sort(reverse=True)"
      ],
      "metadata": {
        "id": "e1JrJwwPQuYh"
      },
      "execution_count": 59,
      "outputs": []
    },
    {
      "cell_type": "code",
      "source": [
        "numbers"
      ],
      "metadata": {
        "colab": {
          "base_uri": "https://localhost:8080/"
        },
        "id": "3gIh7UFTQzNY",
        "outputId": "6b611c57-c40c-4f47-d555-84e6759b1818"
      },
      "execution_count": 60,
      "outputs": [
        {
          "output_type": "execute_result",
          "data": {
            "text/plain": [
              "[5675, 4567, 453, 324, 211, 53, 53, 33, 4, 3]"
            ]
          },
          "metadata": {},
          "execution_count": 60
        }
      ]
    },
    {
      "cell_type": "markdown",
      "source": [
        "### 4.4 Update an Element"
      ],
      "metadata": {
        "id": "xHPN0reDQ-Hx"
      }
    },
    {
      "cell_type": "code",
      "source": [
        "numbers"
      ],
      "metadata": {
        "colab": {
          "base_uri": "https://localhost:8080/"
        },
        "id": "Zsdn4PLCRDh_",
        "outputId": "01abed8b-1840-46c4-a6ae-012fbe6f4335"
      },
      "execution_count": 61,
      "outputs": [
        {
          "output_type": "execute_result",
          "data": {
            "text/plain": [
              "[5675, 4567, 453, 324, 211, 53, 53, 33, 4, 3]"
            ]
          },
          "metadata": {},
          "execution_count": 61
        }
      ]
    },
    {
      "cell_type": "code",
      "source": [
        "numbers[0]=1000"
      ],
      "metadata": {
        "id": "tz0XS2WiRHnU"
      },
      "execution_count": 62,
      "outputs": []
    },
    {
      "cell_type": "code",
      "source": [
        "numbers"
      ],
      "metadata": {
        "colab": {
          "base_uri": "https://localhost:8080/"
        },
        "id": "QhiC74aQRKf0",
        "outputId": "f6a06d62-1589-4d7e-81af-ab8170137070"
      },
      "execution_count": 63,
      "outputs": [
        {
          "output_type": "execute_result",
          "data": {
            "text/plain": [
              "[1000, 4567, 453, 324, 211, 53, 53, 33, 4, 3]"
            ]
          },
          "metadata": {},
          "execution_count": 63
        }
      ]
    },
    {
      "cell_type": "markdown",
      "source": [
        "### 4.5 Copying a list"
      ],
      "metadata": {
        "id": "B6I209F6RQwB"
      }
    },
    {
      "cell_type": "code",
      "source": [
        "countries = ['Japan', 'US', 'Bangladesh', 'India', 'Pakistan', 'UK', 'Australia', 'China']\n",
        "new_list = countries[:]"
      ],
      "metadata": {
        "id": "RwYrvPgARVVC"
      },
      "execution_count": 67,
      "outputs": []
    },
    {
      "cell_type": "code",
      "source": [
        "new_list"
      ],
      "metadata": {
        "colab": {
          "base_uri": "https://localhost:8080/"
        },
        "id": "HDaJ4qe8RhIY",
        "outputId": "ff3579ea-e095-49ea-b750-2209d3f52892"
      },
      "execution_count": 69,
      "outputs": [
        {
          "output_type": "execute_result",
          "data": {
            "text/plain": [
              "['Japan', 'US', 'Bangladesh', 'India', 'Pakistan', 'UK', 'Australia', 'China']"
            ]
          },
          "metadata": {},
          "execution_count": 69
        }
      ]
    },
    {
      "cell_type": "code",
      "source": [
        "new_list2 = countries.copy()"
      ],
      "metadata": {
        "id": "Z17PUU_KRwJx"
      },
      "execution_count": 70,
      "outputs": []
    },
    {
      "cell_type": "code",
      "source": [
        "new_list2"
      ],
      "metadata": {
        "colab": {
          "base_uri": "https://localhost:8080/"
        },
        "id": "H6mpUE33R1pP",
        "outputId": "09f5aefa-c238-46d8-904c-eb41a48d5dfa"
      },
      "execution_count": 71,
      "outputs": [
        {
          "output_type": "execute_result",
          "data": {
            "text/plain": [
              "['Japan', 'US', 'Bangladesh', 'India', 'Pakistan', 'UK', 'Australia', 'China']"
            ]
          },
          "metadata": {},
          "execution_count": 71
        }
      ]
    },
    {
      "cell_type": "code",
      "source": [],
      "metadata": {
        "id": "JCarRjtbR3Af"
      },
      "execution_count": null,
      "outputs": []
    }
  ]
}